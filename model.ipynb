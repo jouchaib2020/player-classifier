{
  "cells": [
    {
      "cell_type": "markdown",
      "source": [
        "# Implementation du score classiffier et du dataset "
      ],
      "metadata": {
        "id": "i50ccmWkJWrz"
      }
    },
    {
      "cell_type": "code",
      "execution_count": 1,
      "metadata": {
        "id": "Vp_43rjP7ozl"
      },
      "outputs": [],
      "source": [
        "import numpy as np\n",
        "import pandas as pd\n",
        "import matplotlib\n",
        "from matplotlib import pyplot as plt\n",
        "from sklearn.preprocessing import MinMaxScaler\n",
        "from sklearn.model_selection import KFold\n",
        "from sklearn.metrics import confusion_matrix\n",
        "from sklearn.metrics import recall_score, accuracy_score\n",
        "from sklearn.svm import SVC"
      ]
    },
    {
      "cell_type": "code",
      "execution_count": 2,
      "metadata": {
        "id": "4n8p2BHl9KGf"
      },
      "outputs": [],
      "source": [
        "def score_classifier(dataset,classifier,labels):\n",
        "\n",
        "    \"\"\"\n",
        "    performs 3 random trainings/tests to build a confusion matrix and prints results with precision and recall scores\n",
        "    :param dataset: the dataset to work on\n",
        "    :param classifier: the classifier to use\n",
        "    :param labels: the labels used for training and validation\n",
        "    :return:\n",
        "    \"\"\"\n",
        "\n",
        "    kf = KFold(n_splits=3,random_state=50,shuffle=True)\n",
        "    confusion_mat = np.zeros((2,2))\n",
        "    recall = 0\n",
        "    for training_ids,test_ids in kf.split(dataset):\n",
        "        training_set = dataset[training_ids]\n",
        "        training_labels = labels[training_ids]\n",
        "        test_set = dataset[test_ids]\n",
        "        test_labels = labels[test_ids]\n",
        "        classifier.fit(training_set,training_labels)\n",
        "        predicted_labels = classifier.predict(test_set)\n",
        "        confusion_mat+=confusion_matrix(test_labels,predicted_labels)\n",
        "        recall += recall_score(test_labels, predicted_labels)\n",
        "        recall/=3\n",
        "    return confusion_mat, recall"
      ]
    },
    {
      "cell_type": "code",
      "execution_count": 4,
      "metadata": {
        "id": "KeEtY_QO9VyH"
      },
      "outputs": [],
      "source": [
        "df = pd.read_csv(\"nba_logreg.csv\")"
      ]
    },
    {
      "cell_type": "code",
      "execution_count": 5,
      "metadata": {
        "colab": {
          "base_uri": "https://localhost:8080/",
          "height": 237
        },
        "id": "MuJQL0Eb9huN",
        "outputId": "73480cb3-11b4-44f0-f243-9f61fe022ccf"
      },
      "outputs": [
        {
          "output_type": "execute_result",
          "data": {
            "text/html": [
              "\n",
              "  <div id=\"df-72380835-eeca-4b11-a4e1-3613d9d43403\">\n",
              "    <div class=\"colab-df-container\">\n",
              "      <div>\n",
              "<style scoped>\n",
              "    .dataframe tbody tr th:only-of-type {\n",
              "        vertical-align: middle;\n",
              "    }\n",
              "\n",
              "    .dataframe tbody tr th {\n",
              "        vertical-align: top;\n",
              "    }\n",
              "\n",
              "    .dataframe thead th {\n",
              "        text-align: right;\n",
              "    }\n",
              "</style>\n",
              "<table border=\"1\" class=\"dataframe\">\n",
              "  <thead>\n",
              "    <tr style=\"text-align: right;\">\n",
              "      <th></th>\n",
              "      <th>Name</th>\n",
              "      <th>GP</th>\n",
              "      <th>MIN</th>\n",
              "      <th>PTS</th>\n",
              "      <th>FGM</th>\n",
              "      <th>FGA</th>\n",
              "      <th>FG%</th>\n",
              "      <th>3P Made</th>\n",
              "      <th>3PA</th>\n",
              "      <th>3P%</th>\n",
              "      <th>FTM</th>\n",
              "      <th>FTA</th>\n",
              "      <th>FT%</th>\n",
              "      <th>OREB</th>\n",
              "      <th>DREB</th>\n",
              "      <th>REB</th>\n",
              "      <th>AST</th>\n",
              "      <th>STL</th>\n",
              "      <th>BLK</th>\n",
              "      <th>TOV</th>\n",
              "      <th>TARGET_5Yrs</th>\n",
              "    </tr>\n",
              "  </thead>\n",
              "  <tbody>\n",
              "    <tr>\n",
              "      <th>0</th>\n",
              "      <td>Brandon Ingram</td>\n",
              "      <td>36</td>\n",
              "      <td>27.4</td>\n",
              "      <td>7.4</td>\n",
              "      <td>2.6</td>\n",
              "      <td>7.6</td>\n",
              "      <td>34.7</td>\n",
              "      <td>0.5</td>\n",
              "      <td>2.1</td>\n",
              "      <td>25.0</td>\n",
              "      <td>1.6</td>\n",
              "      <td>2.3</td>\n",
              "      <td>69.9</td>\n",
              "      <td>0.7</td>\n",
              "      <td>3.4</td>\n",
              "      <td>4.1</td>\n",
              "      <td>1.9</td>\n",
              "      <td>0.4</td>\n",
              "      <td>0.4</td>\n",
              "      <td>1.3</td>\n",
              "      <td>0.0</td>\n",
              "    </tr>\n",
              "    <tr>\n",
              "      <th>1</th>\n",
              "      <td>Andrew Harrison</td>\n",
              "      <td>35</td>\n",
              "      <td>26.9</td>\n",
              "      <td>7.2</td>\n",
              "      <td>2.0</td>\n",
              "      <td>6.7</td>\n",
              "      <td>29.6</td>\n",
              "      <td>0.7</td>\n",
              "      <td>2.8</td>\n",
              "      <td>23.5</td>\n",
              "      <td>2.6</td>\n",
              "      <td>3.4</td>\n",
              "      <td>76.5</td>\n",
              "      <td>0.5</td>\n",
              "      <td>2.0</td>\n",
              "      <td>2.4</td>\n",
              "      <td>3.7</td>\n",
              "      <td>1.1</td>\n",
              "      <td>0.5</td>\n",
              "      <td>1.6</td>\n",
              "      <td>0.0</td>\n",
              "    </tr>\n",
              "    <tr>\n",
              "      <th>2</th>\n",
              "      <td>JaKarr Sampson</td>\n",
              "      <td>74</td>\n",
              "      <td>15.3</td>\n",
              "      <td>5.2</td>\n",
              "      <td>2.0</td>\n",
              "      <td>4.7</td>\n",
              "      <td>42.2</td>\n",
              "      <td>0.4</td>\n",
              "      <td>1.7</td>\n",
              "      <td>24.4</td>\n",
              "      <td>0.9</td>\n",
              "      <td>1.3</td>\n",
              "      <td>67.0</td>\n",
              "      <td>0.5</td>\n",
              "      <td>1.7</td>\n",
              "      <td>2.2</td>\n",
              "      <td>1.0</td>\n",
              "      <td>0.5</td>\n",
              "      <td>0.3</td>\n",
              "      <td>1.0</td>\n",
              "      <td>0.0</td>\n",
              "    </tr>\n",
              "    <tr>\n",
              "      <th>3</th>\n",
              "      <td>Malik Sealy</td>\n",
              "      <td>58</td>\n",
              "      <td>11.6</td>\n",
              "      <td>5.7</td>\n",
              "      <td>2.3</td>\n",
              "      <td>5.5</td>\n",
              "      <td>42.6</td>\n",
              "      <td>0.1</td>\n",
              "      <td>0.5</td>\n",
              "      <td>22.6</td>\n",
              "      <td>0.9</td>\n",
              "      <td>1.3</td>\n",
              "      <td>68.9</td>\n",
              "      <td>1.0</td>\n",
              "      <td>0.9</td>\n",
              "      <td>1.9</td>\n",
              "      <td>0.8</td>\n",
              "      <td>0.6</td>\n",
              "      <td>0.1</td>\n",
              "      <td>1.0</td>\n",
              "      <td>1.0</td>\n",
              "    </tr>\n",
              "    <tr>\n",
              "      <th>4</th>\n",
              "      <td>Matt Geiger</td>\n",
              "      <td>48</td>\n",
              "      <td>11.5</td>\n",
              "      <td>4.5</td>\n",
              "      <td>1.6</td>\n",
              "      <td>3.0</td>\n",
              "      <td>52.4</td>\n",
              "      <td>0.0</td>\n",
              "      <td>0.1</td>\n",
              "      <td>0.0</td>\n",
              "      <td>1.3</td>\n",
              "      <td>1.9</td>\n",
              "      <td>67.4</td>\n",
              "      <td>1.0</td>\n",
              "      <td>1.5</td>\n",
              "      <td>2.5</td>\n",
              "      <td>0.3</td>\n",
              "      <td>0.3</td>\n",
              "      <td>0.4</td>\n",
              "      <td>0.8</td>\n",
              "      <td>1.0</td>\n",
              "    </tr>\n",
              "    <tr>\n",
              "      <th>5</th>\n",
              "      <td>Tony Bennett</td>\n",
              "      <td>75</td>\n",
              "      <td>11.4</td>\n",
              "      <td>3.7</td>\n",
              "      <td>1.5</td>\n",
              "      <td>3.5</td>\n",
              "      <td>42.3</td>\n",
              "      <td>0.3</td>\n",
              "      <td>1.1</td>\n",
              "      <td>32.5</td>\n",
              "      <td>0.4</td>\n",
              "      <td>0.5</td>\n",
              "      <td>73.2</td>\n",
              "      <td>0.2</td>\n",
              "      <td>0.7</td>\n",
              "      <td>0.8</td>\n",
              "      <td>1.8</td>\n",
              "      <td>0.4</td>\n",
              "      <td>0.0</td>\n",
              "      <td>0.7</td>\n",
              "      <td>0.0</td>\n",
              "    </tr>\n",
              "  </tbody>\n",
              "</table>\n",
              "</div>\n",
              "      <button class=\"colab-df-convert\" onclick=\"convertToInteractive('df-72380835-eeca-4b11-a4e1-3613d9d43403')\"\n",
              "              title=\"Convert this dataframe to an interactive table.\"\n",
              "              style=\"display:none;\">\n",
              "        \n",
              "  <svg xmlns=\"http://www.w3.org/2000/svg\" height=\"24px\"viewBox=\"0 0 24 24\"\n",
              "       width=\"24px\">\n",
              "    <path d=\"M0 0h24v24H0V0z\" fill=\"none\"/>\n",
              "    <path d=\"M18.56 5.44l.94 2.06.94-2.06 2.06-.94-2.06-.94-.94-2.06-.94 2.06-2.06.94zm-11 1L8.5 8.5l.94-2.06 2.06-.94-2.06-.94L8.5 2.5l-.94 2.06-2.06.94zm10 10l.94 2.06.94-2.06 2.06-.94-2.06-.94-.94-2.06-.94 2.06-2.06.94z\"/><path d=\"M17.41 7.96l-1.37-1.37c-.4-.4-.92-.59-1.43-.59-.52 0-1.04.2-1.43.59L10.3 9.45l-7.72 7.72c-.78.78-.78 2.05 0 2.83L4 21.41c.39.39.9.59 1.41.59.51 0 1.02-.2 1.41-.59l7.78-7.78 2.81-2.81c.8-.78.8-2.07 0-2.86zM5.41 20L4 18.59l7.72-7.72 1.47 1.35L5.41 20z\"/>\n",
              "  </svg>\n",
              "      </button>\n",
              "      \n",
              "  <style>\n",
              "    .colab-df-container {\n",
              "      display:flex;\n",
              "      flex-wrap:wrap;\n",
              "      gap: 12px;\n",
              "    }\n",
              "\n",
              "    .colab-df-convert {\n",
              "      background-color: #E8F0FE;\n",
              "      border: none;\n",
              "      border-radius: 50%;\n",
              "      cursor: pointer;\n",
              "      display: none;\n",
              "      fill: #1967D2;\n",
              "      height: 32px;\n",
              "      padding: 0 0 0 0;\n",
              "      width: 32px;\n",
              "    }\n",
              "\n",
              "    .colab-df-convert:hover {\n",
              "      background-color: #E2EBFA;\n",
              "      box-shadow: 0px 1px 2px rgba(60, 64, 67, 0.3), 0px 1px 3px 1px rgba(60, 64, 67, 0.15);\n",
              "      fill: #174EA6;\n",
              "    }\n",
              "\n",
              "    [theme=dark] .colab-df-convert {\n",
              "      background-color: #3B4455;\n",
              "      fill: #D2E3FC;\n",
              "    }\n",
              "\n",
              "    [theme=dark] .colab-df-convert:hover {\n",
              "      background-color: #434B5C;\n",
              "      box-shadow: 0px 1px 3px 1px rgba(0, 0, 0, 0.15);\n",
              "      filter: drop-shadow(0px 1px 2px rgba(0, 0, 0, 0.3));\n",
              "      fill: #FFFFFF;\n",
              "    }\n",
              "  </style>\n",
              "\n",
              "      <script>\n",
              "        const buttonEl =\n",
              "          document.querySelector('#df-72380835-eeca-4b11-a4e1-3613d9d43403 button.colab-df-convert');\n",
              "        buttonEl.style.display =\n",
              "          google.colab.kernel.accessAllowed ? 'block' : 'none';\n",
              "\n",
              "        async function convertToInteractive(key) {\n",
              "          const element = document.querySelector('#df-72380835-eeca-4b11-a4e1-3613d9d43403');\n",
              "          const dataTable =\n",
              "            await google.colab.kernel.invokeFunction('convertToInteractive',\n",
              "                                                     [key], {});\n",
              "          if (!dataTable) return;\n",
              "\n",
              "          const docLinkHtml = 'Like what you see? Visit the ' +\n",
              "            '<a target=\"_blank\" href=https://colab.research.google.com/notebooks/data_table.ipynb>data table notebook</a>'\n",
              "            + ' to learn more about interactive tables.';\n",
              "          element.innerHTML = '';\n",
              "          dataTable['output_type'] = 'display_data';\n",
              "          await google.colab.output.renderOutput(dataTable, element);\n",
              "          const docLink = document.createElement('div');\n",
              "          docLink.innerHTML = docLinkHtml;\n",
              "          element.appendChild(docLink);\n",
              "        }\n",
              "      </script>\n",
              "    </div>\n",
              "  </div>\n",
              "  "
            ],
            "text/plain": [
              "              Name  GP   MIN  PTS  FGM  ...  AST  STL  BLK  TOV  TARGET_5Yrs\n",
              "0   Brandon Ingram  36  27.4  7.4  2.6  ...  1.9  0.4  0.4  1.3          0.0\n",
              "1  Andrew Harrison  35  26.9  7.2  2.0  ...  3.7  1.1  0.5  1.6          0.0\n",
              "2   JaKarr Sampson  74  15.3  5.2  2.0  ...  1.0  0.5  0.3  1.0          0.0\n",
              "3      Malik Sealy  58  11.6  5.7  2.3  ...  0.8  0.6  0.1  1.0          1.0\n",
              "4      Matt Geiger  48  11.5  4.5  1.6  ...  0.3  0.3  0.4  0.8          1.0\n",
              "5     Tony Bennett  75  11.4  3.7  1.5  ...  1.8  0.4  0.0  0.7          0.0\n",
              "\n",
              "[6 rows x 21 columns]"
            ]
          },
          "metadata": {},
          "execution_count": 5
        }
      ],
      "source": [
        "df.head(6)"
      ]
    },
    {
      "cell_type": "code",
      "execution_count": 5,
      "metadata": {
        "id": "EvKMLgKA__DV"
      },
      "outputs": [],
      "source": [
        "names = df['Name'].values.tolist() # players names\n",
        "labels = df['TARGET_5Yrs'].values # labels"
      ]
    },
    {
      "cell_type": "code",
      "execution_count": 6,
      "metadata": {
        "colab": {
          "base_uri": "https://localhost:8080/"
        },
        "id": "NaL8HgwYAV8z",
        "outputId": "fc710a1b-8f94-47cd-d3ee-9edced62050d"
      },
      "outputs": [
        {
          "output_type": "stream",
          "name": "stdout",
          "text": [
            "(1340, 19)\n"
          ]
        }
      ],
      "source": [
        "paramset = df.drop(['TARGET_5Yrs','Name'],axis=1).columns.values\n",
        "df_vals = df.drop(['TARGET_5Yrs','Name'],axis=1).values\n",
        "print(df_vals.shape)"
      ]
    },
    {
      "cell_type": "markdown",
      "source": [
        "## Le dataset assez petit\n",
        "donc théoriquement il faut utiliser un classificateur avec un biais élevé (par exemple, Naive Bayes).Un classificateur à biais plus élevé aura une variance plus faible, ce qui est bien en raison de la petite quantité de données."
      ],
      "metadata": {
        "id": "l3NUUyC5JzsY"
      }
    },
    {
      "cell_type": "code",
      "execution_count": 7,
      "metadata": {
        "id": "KmTu3j_iArH6"
      },
      "outputs": [],
      "source": [
        "for x in np.argwhere(np.isnan(df_vals)):\n",
        "    df_vals[x]=0.0"
      ]
    },
    {
      "cell_type": "code",
      "source": [
        "#Checking for Class imbalance\n",
        "print((df['TARGET_5Yrs'] == 1).sum(), (df['TARGET_5Yrs'] == 0).sum())"
      ],
      "metadata": {
        "colab": {
          "base_uri": "https://localhost:8080/"
        },
        "id": "lUeP5F3WTN1B",
        "outputId": "6c35c4cf-a74c-4ebc-cbbe-e4877a02f548"
      },
      "execution_count": 8,
      "outputs": [
        {
          "output_type": "stream",
          "name": "stdout",
          "text": [
            "831 509\n"
          ]
        }
      ]
    },
    {
      "cell_type": "markdown",
      "source": [
        "## Vérifier le déséquilibre de classe\n",
        "On vérifie si une classe domine et qu'il y a très peu d'instances de l'autre classe.Le cas écheant signifie que notre algorithme ML est exposé à très moins de cas de formation. mais ceux n'est pas le cas dans notre dataset car la différence entre les nombres de cas dans chauque class est acceptable"
      ],
      "metadata": {
        "id": "3fSvouKfLLTD"
      }
    },
    {
      "cell_type": "code",
      "execution_count": 9,
      "metadata": {
        "id": "bsQPL67aBIdF"
      },
      "outputs": [],
      "source": [
        "# Mise à l'échelle standard des données\n",
        "X = MinMaxScaler().fit_transform(df_vals)"
      ]
    },
    {
      "cell_type": "markdown",
      "source": [
        "# On commence par une simple regression linéare\n",
        "Cela va nous permettre de mieux comprendre notre data et la corrélation entre nos features. Dans notre cas, vu les valeurs des coefs et des d'erreurs notre data est trés defficile à etre séparer linearement "
      ],
      "metadata": {
        "id": "P_EXTaFmP2QH"
      }
    },
    {
      "cell_type": "code",
      "source": [
        "from sklearn import linear_model\n",
        "from sklearn.metrics import mean_squared_error\n",
        "\n",
        "# Load the diabetes dataset\n",
        "\n",
        "for i in range(0,19):\n",
        "  diabetes_X, diabetes_y = X, labels;\n",
        "\n",
        "  # Use only one feature\n",
        "  diabetes_X = diabetes_X[:, i].reshape(-1,1)\n",
        "\n",
        "  # Split the data into training/testing sets\n",
        "  diabetes_X_train = diabetes_X[:-20]\n",
        "  diabetes_X_test = diabetes_X[-20:]\n",
        "\n",
        "  # Split the targets into training/testing sets\n",
        "  diabetes_y_train = diabetes_y[:-20]\n",
        "  diabetes_y_test = diabetes_y[-20:]\n",
        "\n",
        "  # Create linear regression object\n",
        "  regr = linear_model.LinearRegression()\n",
        "\n",
        "  # Train the model using the training sets\n",
        "  regr.fit(diabetes_X_train, diabetes_y_train)\n",
        "\n",
        "  # Make predictions using the testing set\n",
        "  diabetes_y_pred = regr.predict(diabetes_X_test)\n",
        "\n",
        "  # The coefficients\n",
        "  print(\"Coefficients: \\n\", regr.coef_)\n",
        "  # The mean squared error\n",
        "  print(\"Mean squared error: %.2f\" % mean_squared_error(diabetes_y_test, diabetes_y_pred))\n",
        "\n",
        "  # Plot outputs\n",
        "  plt.scatter(diabetes_X_test, diabetes_y_test, color=\"black\")\n",
        "  plt.plot(diabetes_X_test, diabetes_y_pred, color=\"blue\", linewidth=3)\n",
        "\n",
        "  plt.xticks(())\n",
        "  plt.yticks(())\n",
        "\n",
        "  plt.show()"
      ],
      "metadata": {
        "colab": {
          "base_uri": "https://localhost:8080/",
          "height": 1000
        },
        "id": "BB_bGjXCMjL3",
        "outputId": "dd84e272-9ddb-4aef-d1c1-dd406e5d5472"
      },
      "execution_count": 11,
      "outputs": [
        {
          "output_type": "stream",
          "name": "stdout",
          "text": [
            "Coefficients: \n",
            " [0.85714086]\n",
            "Mean squared error: 0.27\n"
          ]
        },
        {
          "output_type": "display_data",
          "data": {
            "image/png": "[encoded data removed]",
            "text/plain": [
              "<Figure size 432x288 with 1 Axes>"
            ]
          },
          "metadata": {}
        },
        {
          "output_type": "stream",
          "name": "stdout",
          "text": [
            "Coefficients: \n",
            " [0.74039254]\n",
            "Mean squared error: 0.23\n"
          ]
        },
        {
          "output_type": "display_data",
          "data": {
            "image/png": "[encoded data removed]",
            "text/plain": [
              "<Figure size 432x288 with 1 Axes>"
            ]
          },
          "metadata": {}
        },
        {
          "output_type": "stream",
          "name": "stdout",
          "text": [
            "Coefficients: \n",
            " [0.98344129]\n",
            "Mean squared error: 0.24\n"
          ]
        },
        {
          "output_type": "display_data",
          "data": {
            "image/png": "[encoded data removed]",
            "text/plain": [
              "<Figure size 432x288 with 1 Axes>"
            ]
          },
          "metadata": {}
        },
        {
          "output_type": "stream",
          "name": "stdout",
          "text": [
            "Coefficients: \n",
            " [0.92641661]\n",
            "Mean squared error: 0.24\n"
          ]
        },
        {
          "output_type": "display_data",
          "data": {
            "image/png": "[encoded data removed]",
            "text/plain": [
              "<Figure size 432x288 with 1 Axes>"
            ]
          },
          "metadata": {}
        },
        {
          "output_type": "stream",
          "name": "stdout",
          "text": [
            "Coefficients: \n",
            " [0.77334367]\n",
            "Mean squared error: 0.24\n"
          ]
        },
        {
          "output_type": "display_data",
          "data": {
            "image/png": "[encoded data removed]",
            "text/plain": [
              "<Figure size 432x288 with 1 Axes>"
            ]
          },
          "metadata": {}
        },
        {
          "output_type": "stream",
          "name": "stdout",
          "text": [
            "Coefficients: \n",
            " [1.06355944]\n",
            "Mean squared error: 0.26\n"
          ]
        },
        {
          "output_type": "display_data",
          "data": {
            "image/png": "[encoded data removed]",
            "text/plain": [
              "<Figure size 432x288 with 1 Axes>"
            ]
          },
          "metadata": {}
        },
        {
          "output_type": "stream",
          "name": "stdout",
          "text": [
            "Coefficients: \n",
            " [0.09322483]\n",
            "Mean squared error: 0.24\n"
          ]
        },
        {
          "output_type": "display_data",
          "data": {
            "image/png": "[encoded data removed]",
            "text/plain": [
              "<Figure size 432x288 with 1 Axes>"
            ]
          },
          "metadata": {}
        },
        {
          "output_type": "stream",
          "name": "stdout",
          "text": [
            "Coefficients: \n",
            " [0.04125534]\n",
            "Mean squared error: 0.24\n"
          ]
        },
        {
          "output_type": "display_data",
          "data": {
            "image/png": "[encoded data removed]",
            "text/plain": [
              "<Figure size 432x288 with 1 Axes>"
            ]
          },
          "metadata": {}
        },
        {
          "output_type": "stream",
          "name": "stdout",
          "text": [
            "Coefficients: \n",
            " [-0.00265618]\n",
            "Mean squared error: 0.24\n"
          ]
        },
        {
          "output_type": "display_data",
          "data": {
            "image/png": "[encoded data removed]",
            "text/plain": [
              "<Figure size 432x288 with 1 Axes>"
            ]
          },
          "metadata": {}
        },
        {
          "output_type": "stream",
          "name": "stdout",
          "text": [
            "Coefficients: \n",
            " [1.12330788]\n",
            "Mean squared error: 0.25\n"
          ]
        },
        {
          "output_type": "display_data",
          "data": {
            "image/png": "[encoded data removed]",
            "text/plain": [
              "<Figure size 432x288 with 1 Axes>"
            ]
          },
          "metadata": {}
        },
        {
          "output_type": "stream",
          "name": "stdout",
          "text": [
            "Coefficients: \n",
            " [1.11003165]\n",
            "Mean squared error: 0.25\n"
          ]
        },
        {
          "output_type": "display_data",
          "data": {
            "image/png": "[encoded data removed]",
            "text/plain": [
              "<Figure size 432x288 with 1 Axes>"
            ]
          },
          "metadata": {}
        },
        {
          "output_type": "stream",
          "name": "stdout",
          "text": [
            "Coefficients: \n",
            " [0.40629816]\n",
            "Mean squared error: 0.25\n"
          ]
        },
        {
          "output_type": "display_data",
          "data": {
            "image/png": "[encoded data removed]",
            "text/plain": [
              "<Figure size 432x288 with 1 Axes>"
            ]
          },
          "metadata": {}
        },
        {
          "output_type": "stream",
          "name": "stdout",
          "text": [
            "Coefficients: \n",
            " [0.98602284]\n",
            "Mean squared error: 0.27\n"
          ]
        },
        {
          "output_type": "display_data",
          "data": {
            "image/png": "[encoded data removed]",
            "text/plain": [
              "<Figure size 432x288 with 1 Axes>"
            ]
          },
          "metadata": {}
        },
        {
          "output_type": "stream",
          "name": "stdout",
          "text": [
            "Coefficients: \n",
            " [0.97776921]\n",
            "Mean squared error: 0.24\n"
          ]
        },
        {
          "output_type": "display_data",
          "data": {
            "image/png": "[encoded data removed]",
            "text/plain": [
              "<Figure size 432x288 with 1 Axes>"
            ]
          },
          "metadata": {}
        },
        {
          "output_type": "stream",
          "name": "stdout",
          "text": [
            "Coefficients: \n",
            " [0.98677797]\n",
            "Mean squared error: 0.25\n"
          ]
        },
        {
          "output_type": "display_data",
          "data": {
            "image/png": "[encoded data removed]",
            "text/plain": [
              "<Figure size 432x288 with 1 Axes>"
            ]
          },
          "metadata": {}
        },
        {
          "output_type": "stream",
          "name": "stdout",
          "text": [
            "Coefficients: \n",
            " [0.60670885]\n",
            "Mean squared error: 0.22\n"
          ]
        },
        {
          "output_type": "display_data",
          "data": {
            "image/png": "[encoded data removed]",
            "text/plain": [
              "<Figure size 432x288 with 1 Axes>"
            ]
          },
          "metadata": {}
        },
        {
          "output_type": "stream",
          "name": "stdout",
          "text": [
            "Coefficients: \n",
            " [0.67666208]\n",
            "Mean squared error: 0.24\n"
          ]
        },
        {
          "output_type": "display_data",
          "data": {
            "image/png": "[encoded data removed]",
            "text/plain": [
              "<Figure size 432x288 with 1 Axes>"
            ]
          },
          "metadata": {}
        },
        {
          "output_type": "stream",
          "name": "stdout",
          "text": [
            "Coefficients: \n",
            " [0.94635751]\n",
            "Mean squared error: 0.24\n"
          ]
        },
        {
          "output_type": "display_data",
          "data": {
            "image/png": "[encoded data removed]",
            "text/plain": [
              "<Figure size 432x288 with 1 Axes>"
            ]
          },
          "metadata": {}
        },
        {
          "output_type": "stream",
          "name": "stdout",
          "text": [
            "Coefficients: \n",
            " [0.79234968]\n",
            "Mean squared error: 0.22\n"
          ]
        },
        {
          "output_type": "display_data",
          "data": {
            "image/png": "[encoded data removed]",
            "text/plain": [
              "<Figure size 432x288 with 1 Axes>"
            ]
          },
          "metadata": {}
        }
      ]
    },
    {
      "cell_type": "markdown",
      "source": [
        "#  Le Test des classificateurs de base en premier\n"
      ],
      "metadata": {
        "id": "qjs41KfBSiBY"
      }
    },
    {
      "cell_type": "code",
      "source": [
        "#LogisticRegression\n",
        "from sklearn.linear_model import LogisticRegression\n",
        "lr_clf = LogisticRegression()\n",
        "score_classifier(X,lr_clf,labels)"
      ],
      "metadata": {
        "colab": {
          "base_uri": "https://localhost:8080/"
        },
        "id": "Brk31qCvPxKf",
        "outputId": "0f962f8b-2084-4f73-b3a5-d5869a716fa5"
      },
      "execution_count": 10,
      "outputs": [
        {
          "output_type": "execute_result",
          "data": {
            "text/plain": [
              "(array([[260., 249.],\n",
              "        [137., 694.]]), 0.4033097533335308)"
            ]
          },
          "metadata": {},
          "execution_count": 10
        }
      ]
    },
    {
      "cell_type": "code",
      "source": [
        "#KNN classifier \n",
        "from sklearn.neighbors import KNeighborsClassifier\n",
        "scores = []\n",
        "for i in range(1,100):\n",
        "  neigh_clf  = KNeighborsClassifier(n_neighbors=i)\n",
        "  scores.append(score_classifier(X,neigh_clf,labels)[1])\n",
        "plt.plot(scores)\n",
        "max(scores)"
      ],
      "metadata": {
        "id": "mWCfyk2UeitE",
        "colab": {
          "base_uri": "https://localhost:8080/",
          "height": 282
        },
        "outputId": "49ba8d71-282d-4ee1-bddd-87b4d13d2e7d"
      },
      "execution_count": 11,
      "outputs": [
        {
          "output_type": "execute_result",
          "data": {
            "text/plain": [
              "0.38598115398961896"
            ]
          },
          "metadata": {},
          "execution_count": 11
        },
        {
          "output_type": "display_data",
          "data": {
            "image/png": "[encoded data removed]",
            "text/plain": [
              "<Figure size 432x288 with 1 Axes>"
            ]
          },
          "metadata": {
            "needs_background": "light"
          }
        }
      ]
    },
    {
      "cell_type": "code",
      "source": [
        "#Naive bayes classifier\n",
        "from sklearn.naive_bayes import MultinomialNB\n",
        "mb_clf= MultinomialNB()\n",
        "score_classifier(X,mb_clf,labels)"
      ],
      "metadata": {
        "colab": {
          "base_uri": "https://localhost:8080/"
        },
        "id": "HFFpJpvHCkKh",
        "outputId": "cc3793a9-f469-4564-8d25-a4dbe79503c6"
      },
      "execution_count": 14,
      "outputs": [
        {
          "output_type": "execute_result",
          "data": {
            "text/plain": [
              "(array([[  0., 509.],\n",
              "        [  0., 831.]]), 0.48148148148148145)"
            ]
          },
          "metadata": {},
          "execution_count": 14
        }
      ]
    },
    {
      "cell_type": "markdown",
      "source": [
        "Pour le Moment il semble que le classfieur de bernoulli est le plus préfomant, comme était prévu, mais si on regarde la matrice de confusion on trouve que l'algorithme n'a fait que prédire des la même class pour toutes les données donc il n'est pas vraiment pérformant \n",
        "\n"
      ],
      "metadata": {
        "id": "BfMIac6HT4CW"
      }
    },
    {
      "cell_type": "markdown",
      "source": [
        "####  Test de  SGD Car vue la taille des données il peut êrtre très pérformant \n"
      ],
      "metadata": {
        "id": "yvPHYKcckIyX"
      }
    },
    {
      "cell_type": "code",
      "source": [
        "from sklearn.linear_model import SGDClassifier\n",
        "\n",
        "sgd_clf = SGDClassifier()\n",
        "rep, rec  = score_classifier(X,sgd_clf,labels)\n",
        "print('rec', rec)\n",
        "print(rep)"
      ],
      "metadata": {
        "colab": {
          "base_uri": "https://localhost:8080/"
        },
        "id": "-coE84luE2UT",
        "outputId": "beae324e-c45b-4d6b-f974-24fe7d305066"
      },
      "execution_count": 13,
      "outputs": [
        {
          "output_type": "stream",
          "name": "stdout",
          "text": [
            "rec 0.4278174654573063\n",
            "[[178. 331.]\n",
            " [ 88. 743.]]\n"
          ]
        }
      ]
    },
    {
      "cell_type": "markdown",
      "source": [
        "Il est pas mal aussi mais  on peut par las suite l'améloirer en utilisant GridSearchCV"
      ],
      "metadata": {
        "id": "puEgWjW_U4Ce"
      }
    },
    {
      "cell_type": "code",
      "source": [
        "params = {\n",
        "    \"loss\" : [\"hinge\", \"log\", \"squared_hinge\", \"modified_huber\", \"perceptron\"],\n",
        "    \"alpha\" : [0.0001, 0.001, 0.01, 0.1],\n",
        "    \"penalty\" : [\"l2\", \"l1\", \"elasticnet\", \"none\"],\n",
        "}\n",
        "\n",
        "\n",
        "grid = GridSearchCV(sgd_clf, param_grid=params, cv=20, scoring='recall')\n",
        "\n",
        "\n",
        "grid.fit(df_vals, labels)\n",
        "\n",
        "print(grid.best_params_) "
      ],
      "metadata": {
        "colab": {
          "base_uri": "https://localhost:8080/"
        },
        "id": "6IsFeJvQ7IO1",
        "outputId": "53bd6698-964c-418d-d224-8b03bc4e4ff4"
      },
      "execution_count": 111,
      "outputs": [
        {
          "output_type": "stream",
          "name": "stdout",
          "text": [
            "{'alpha': 0.001, 'loss': 'modified_huber', 'penalty': 'elasticnet'}\n"
          ]
        }
      ]
    },
    {
      "cell_type": "code",
      "source": [
        "from sklearn.linear_model import SGDClassifier\n",
        "\n",
        "sgd_clf = SGDClassifier(loss='modified_huber', \n",
        "                        penalty='elasticnet',\n",
        "                        alpha=0.001,\n",
        "                        l1_ratio=0.15,\n",
        "                        fit_intercept=False,\n",
        "                        max_iter=100000,\n",
        "                        tol=1e-3,\n",
        "                        shuffle=True,\n",
        "                        verbose=0, epsilon=0.1,\n",
        "                        n_jobs=None,\n",
        "                        random_state=None,\n",
        "                        learning_rate='optimal',\n",
        "                        eta0=0.0, power_t=0.5,\n",
        "                        early_stopping=False,\n",
        "                        validation_fraction=0.1,\n",
        "                        n_iter_no_change=5,\n",
        "                        class_weight=None,\n",
        "                        warm_start=False,\n",
        "                        average=False)\n",
        "rep, re = score_classifier(X,sgd_clf,labels)\n",
        "\n",
        "print('rec', rec)\n",
        "print(rep)\n"
      ],
      "metadata": {
        "colab": {
          "base_uri": "https://localhost:8080/"
        },
        "id": "JvlHbRZY_l5r",
        "outputId": "55104da9-088f-4fa1-e022-c778a4f77740"
      },
      "execution_count": 14,
      "outputs": [
        {
          "output_type": "stream",
          "name": "stdout",
          "text": [
            "rec 0.4278174654573063\n",
            "[[331. 178.]\n",
            " [283. 548.]]\n"
          ]
        }
      ]
    },
    {
      "cell_type": "markdown",
      "source": [
        "### c'est le plus grand score qu'on a jusqu'à ce maintenant "
      ],
      "metadata": {
        "id": "VWIUnqLcZe14"
      }
    },
    {
      "cell_type": "markdown",
      "source": [
        "Dans cette étape il sera plus juducieux d'aller vers des models un plus complex tell que les svm et les decision trees"
      ],
      "metadata": {
        "id": "O6bTe1WnZxKB"
      }
    },
    {
      "cell_type": "code",
      "source": [
        "from sklearn.ensemble import RandomForestClassifier\n",
        "rf_clf = RandomForestClassifier(n_estimators=150,\n",
        "                                criterion='gini',\n",
        "                                max_depth=10,\n",
        "                                min_samples_leaf=4,\n",
        "                                max_features='auto',\n",
        "                                max_leaf_nodes=None, \n",
        "                                min_impurity_decrease=0.0,\n",
        "                                bootstrap=True,\n",
        "                                oob_score=False,\n",
        "                                n_jobs=None, \n",
        "                                random_state=None, \n",
        "                                warm_start=False,\n",
        "                                class_weight=None)\n",
        "score_classifier(X,rf_clf,labels)"
      ],
      "metadata": {
        "colab": {
          "base_uri": "https://localhost:8080/"
        },
        "id": "lMljEJnWX9PN",
        "outputId": "70d576ed-ec75-41a5-a36c-ea3908fe9d2d"
      },
      "execution_count": 96,
      "outputs": [
        {
          "output_type": "execute_result",
          "data": {
            "text/plain": [
              "(array([[268., 241.],\n",
              "        [164., 667.]]), 0.39698370707066144)"
            ]
          },
          "metadata": {},
          "execution_count": 96
        }
      ]
    },
    {
      "cell_type": "markdown",
      "source": [
        "Le SVC est pévu d'etre plus pérformant avec une grande valeur de gamma"
      ],
      "metadata": {
        "id": "Uouo1xKjeqFi"
      }
    },
    {
      "cell_type": "code",
      "source": [
        "from sklearn.svm import SVC\n",
        "svc_clf = SVC(C=1.0, kernel='rbf', gamma=100, coef0=1.0, tol=0.001, cache_size=10, max_iter=- 1, decision_function_shape='ovo', random_state=None)\n",
        "score_classifier(X,svc_clf,labels)"
      ],
      "metadata": {
        "colab": {
          "base_uri": "https://localhost:8080/"
        },
        "id": "HNyExRIBaW9h",
        "outputId": "366d6fdf-0774-40d2-af28-b51a84c4cde6"
      },
      "execution_count": 15,
      "outputs": [
        {
          "output_type": "execute_result",
          "data": {
            "text/plain": [
              "(array([[ 19., 490.],\n",
              "        [ 18., 813.]]), 0.4735222431736689)"
            ]
          },
          "metadata": {},
          "execution_count": 15
        }
      ]
    },
    {
      "cell_type": "markdown",
      "source": [
        "##  à ce stade l'agorithme qui semble le plus prértinant est Svc, on va par la suite essayer de l'améloirer par diffèrentes approches "
      ],
      "metadata": {
        "id": "g0impbA2iJ1j"
      }
    },
    {
      "cell_type": "markdown",
      "source": [
        "### Feature selection"
      ],
      "metadata": {
        "id": "FtoZRJ4Kih4G"
      }
    },
    {
      "cell_type": "code",
      "source": [
        "\n",
        "from sklearn.decomposition import PCA\n",
        "recs = []\n",
        "for i in range(2,20):\n",
        "  X1 = X[:]\n",
        "  pca = PCA(n_components=i)\n",
        "  pca.fit(X1)\n",
        "  X1 = pca.transform(X1)\n",
        "  recs.append(score_classifier(X1,SVC(),labels)[1])\n",
        "\n",
        "plt.plot(recs)\n",
        "\n",
        "\n",
        "X1 = X[:]\n",
        "pca = PCA(n_components=8)\n",
        "pca.fit(X1)\n",
        "X1 = pca.transform(X1)\n",
        "X1 = MinMaxScaler().fit_transform(X1)"
      ],
      "metadata": {
        "colab": {
          "base_uri": "https://localhost:8080/",
          "height": 265
        },
        "id": "HhAwjw0sXWwh",
        "outputId": "3c945de6-e0e9-4f2b-c4f4-1b2900cf6b65"
      },
      "execution_count": 17,
      "outputs": [
        {
          "output_type": "display_data",
          "data": {
            "image/png": "[encoded data removed]",
            "text/plain": [
              "<Figure size 432x288 with 1 Axes>"
            ]
          },
          "metadata": {
            "needs_background": "light"
          }
        }
      ]
    },
    {
      "cell_type": "code",
      "source": [
        "svc_clf = SVC(C=0.5, kernel='poly', gamma=1, coef0=1.0, tol=0.001, cache_size=10, max_iter=- 1, decision_function_shape='ovo', random_state=None)\n",
        "score_classifier(X1,svc_clf,labels)"
      ],
      "metadata": {
        "id": "klT8E-B47_Uk",
        "colab": {
          "base_uri": "https://localhost:8080/"
        },
        "outputId": "c74d63ed-3283-4d34-a49b-f50301add34f"
      },
      "execution_count": 18,
      "outputs": [
        {
          "output_type": "execute_result",
          "data": {
            "text/plain": [
              "(array([[266., 243.],\n",
              "        [153., 678.]]), 0.3945490531602798)"
            ]
          },
          "metadata": {},
          "execution_count": 18
        }
      ]
    },
    {
      "cell_type": "markdown",
      "source": [
        "## Aproche 2 : combinaison des algorithmes \n"
      ],
      "metadata": {
        "id": "GhLEVZMpmvB2"
      }
    },
    {
      "cell_type": "code",
      "source": [
        "from sklearn.ensemble import VotingClassifier\n",
        "\n",
        "voting_clf = VotingClassifier(estimators=[('svc', svc_clf),('sgd', sgd_clf)],voting='hard', weights=[2,1])\n",
        "score_classifier(X1,voting_clf,labels)"
      ],
      "metadata": {
        "id": "A9WXrCcHY5Dt",
        "colab": {
          "base_uri": "https://localhost:8080/"
        },
        "outputId": "c2b5fb3e-1ee3-4b07-cd3a-17db281477bc"
      },
      "execution_count": 38,
      "outputs": [
        {
          "output_type": "execute_result",
          "data": {
            "text/plain": [
              "(array([[266., 243.],\n",
              "        [153., 678.]]), 0.3945490531602798)"
            ]
          },
          "metadata": {},
          "execution_count": 38
        }
      ]
    },
    {
      "cell_type": "markdown",
      "source": [
        "# Save model"
      ],
      "metadata": {
        "id": "FExsd4KJoT-K"
      }
    },
    {
      "cell_type": "code",
      "source": [
        "import pickle\n",
        "pkl_filename = \"pickle_model.pkl\"\n",
        "with open(pkl_filename, 'wb') as file:\n",
        "    pickle.dump(sgd_clf, file)\n"
      ],
      "metadata": {
        "id": "dAfiAFC8dTwU"
      },
      "execution_count": 39,
      "outputs": []
    },
    {
      "cell_type": "markdown",
      "source": [
        "# Load model"
      ],
      "metadata": {
        "id": "u7U8TNNhokHe"
      }
    },
    {
      "cell_type": "code",
      "source": [
        "with open(pkl_filename, 'rb') as file:\n",
        "    pickle_model = pickle.load(file)\n",
        "print(pickle_model)\n"
      ],
      "metadata": {
        "id": "dtaygI0HeENo",
        "colab": {
          "base_uri": "https://localhost:8080/"
        },
        "outputId": "83b7227d-1999-4c16-a437-f2ea522b745e"
      },
      "execution_count": 40,
      "outputs": [
        {
          "output_type": "stream",
          "name": "stdout",
          "text": [
            "SGDClassifier(alpha=0.001, fit_intercept=False, loss='modified_huber',\n",
            "              max_iter=100000, penalty='elasticnet')\n"
          ]
        }
      ]
    }
  ],
  "metadata": {
    "colab": {
      "name": "MPDATA.ipynb",
      "provenance": [],
      "collapsed_sections": []
    },
    "kernelspec": {
      "display_name": "Python 3",
      "name": "python3"
    },
    "language_info": {
      "name": "python"
    }
  },
  "nbformat": 4,
  "nbformat_minor": 0
}